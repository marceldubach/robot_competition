{
 "cells": [
  {
   "cell_type": "code",
   "execution_count": 1,
   "metadata": {},
   "outputs": [],
   "source": [
    "import numpy as np\n",
    "import math\n",
    "from scipy.interpolate import interp1d\n",
    "import matplotlib.pyplot as plt"
   ]
  },
  {
   "cell_type": "markdown",
   "metadata": {},
   "source": [
    "### define bottle position in pixel coordinates"
   ]
  },
  {
   "cell_type": "code",
   "execution_count": 112,
   "metadata": {},
   "outputs": [],
   "source": [
    "position = np.array([303, 282])\n",
    "x_b = position[0]\n",
    "y_b = position[1]"
   ]
  },
  {
   "cell_type": "code",
   "execution_count": 113,
   "metadata": {},
   "outputs": [],
   "source": [
    "K = np.array([[2714, 0, 640], [0, 2714, 360], [0, 0, 1]])\n",
    "Ki = np.linalg.inv(K)\n",
    "r1 = Ki.dot([x_b, y_b, 1.0])"
   ]
  },
  {
   "cell_type": "code",
   "execution_count": 114,
   "metadata": {},
   "outputs": [],
   "source": [
    "x_c = 640\n",
    "y_c = 360\n",
    "r2 = Ki.dot([x_c, y_c, 1.0])"
   ]
  },
  {
   "cell_type": "code",
   "execution_count": 115,
   "metadata": {},
   "outputs": [],
   "source": [
    "if x_c > x_b:\n",
    "    sign = 1\n",
    "else:\n",
    "    sign = -1\n",
    "cos_angle = r1.dot(r2) / (np.linalg.norm(r1) * np.linalg.norm(r2))\n",
    "angle_radians = sign*np.arccos(cos_angle)"
   ]
  },
  {
   "cell_type": "code",
   "execution_count": 116,
   "metadata": {},
   "outputs": [
    {
     "data": {
      "text/plain": [
       "0.1267700682970626"
      ]
     },
     "execution_count": 116,
     "metadata": {},
     "output_type": "execute_result"
    }
   ],
   "source": [
    "angle_radians"
   ]
  },
  {
   "cell_type": "code",
   "execution_count": 117,
   "metadata": {},
   "outputs": [
    {
     "data": {
      "text/plain": [
       "7.263389882006886"
      ]
     },
     "execution_count": 117,
     "metadata": {},
     "output_type": "execute_result"
    }
   ],
   "source": [
    "angle_degree = angle_radians*180/np.pi\n",
    "angle_degree"
   ]
  },
  {
   "cell_type": "code",
   "execution_count": 118,
   "metadata": {},
   "outputs": [
    {
     "data": {
      "text/plain": [
       "1.09"
      ]
     },
     "execution_count": 118,
     "metadata": {},
     "output_type": "execute_result"
    }
   ],
   "source": [
    "distance = 1.5 - ((y_b)-200)/200\n",
    "distance"
   ]
  },
  {
   "cell_type": "code",
   "execution_count": null,
   "metadata": {},
   "outputs": [],
   "source": []
  },
  {
   "cell_type": "code",
   "execution_count": 119,
   "metadata": {},
   "outputs": [
    {
     "data": {
      "text/plain": [
       "\"\\nx = np.array([30, 50, 75, 100, 125])\\ny = np.array([425, 386, 281, 254, 244])\\nf = interp1d(x, y)\\nf2 = interp1d(x, y, kind='cubic')\\nxnew = np.linspace(30, 125, num=50, endpoint=True)\\nplt.plot(x, y, 'o', xnew, f(xnew), '-', xnew, f2(xnew), '--')\\nplt.legend(['data', 'linear', 'cubic'], loc='best')\\nplt.show()\\n\""
      ]
     },
     "execution_count": 119,
     "metadata": {},
     "output_type": "execute_result"
    }
   ],
   "source": [
    "\"\"\"\n",
    "x = np.array([30, 50, 75, 100, 125])\n",
    "y = np.array([425, 386, 281, 254, 244])\n",
    "f = interp1d(x, y)\n",
    "f2 = interp1d(x, y, kind='cubic')\n",
    "xnew = np.linspace(30, 125, num=50, endpoint=True)\n",
    "plt.plot(x, y, 'o', xnew, f(xnew), '-', xnew, f2(xnew), '--')\n",
    "plt.legend(['data', 'linear', 'cubic'], loc='best')\n",
    "plt.show()\n",
    "\"\"\""
   ]
  },
  {
   "cell_type": "markdown",
   "metadata": {},
   "source": [
    "### DISTANCE INTERPOLATION"
   ]
  },
  {
   "cell_type": "code",
   "execution_count": 7,
   "metadata": {},
   "outputs": [
    {
     "data": {
      "image/png": "[encoded data removed]",
      "text/plain": [
       "<Figure size 432x288 with 1 Axes>"
      ]
     },
     "metadata": {
      "needs_background": "light"
     },
     "output_type": "display_data"
    }
   ],
   "source": [
    "#x = np.array([244, 254, 281, 386, 425])\n",
    "#y = np.array([30, 50, 75, 100, 125]) \n",
    "y_img = np.array([448, 407, 385, 375, 300, 282, 258, 243, 232, 230])\n",
    "dist = np.array([30, 40, 50, 54, 75, 80.9, 100, 104, 126, 130]) \n",
    "f = interp1d(y_img, dist)\n",
    "f2 = interp1d(y_img, dist, kind='cubic')\n",
    "xnew = np.linspace(230, 448, num=100, endpoint=True)\n",
    "plt.plot(x_img, dist, 'o', xnew, f(xnew), '-', xnew, f2(xnew), '--')\n",
    "plt.legend(['data', 'linear', 'cubic'], loc='best')\n",
    "plt.show()"
   ]
  },
  {
   "cell_type": "code",
   "execution_count": 5,
   "metadata": {},
   "outputs": [
    {
     "data": {
      "text/plain": [
       "array(102.13333333)"
      ]
     },
     "execution_count": 5,
     "metadata": {},
     "output_type": "execute_result"
    }
   ],
   "source": [
    "f(250)"
   ]
  },
  {
   "cell_type": "markdown",
   "metadata": {},
   "source": [
    "### ANGLE INTERPOLATION"
   ]
  },
  {
   "cell_type": "code",
   "execution_count": 25,
   "metadata": {},
   "outputs": [
    {
     "data": {
      "image/png": "[encoded data removed]",
      "text/plain": [
       "<Figure size 432x288 with 1 Axes>"
      ]
     },
     "metadata": {
      "needs_background": "light"
     },
     "output_type": "display_data"
    }
   ],
   "source": [
    "x_img = np.array([1180, 1050, 842, 695, 500, 347, 200])\n",
    "theta = np.array([-26,-22, -10, 0, 10, 22, 26]) \n",
    "f_theta = interp1d(x_img, theta)\n",
    "f2 = interp1d(x_img, theta, kind='cubic')\n",
    "xnew = np.linspace(200, 1180, num=100, endpoint=True)\n",
    "plt.plot(x_img, theta, 'o', xnew, f_theta(xnew), '-', xnew, f2(xnew), '--')\n",
    "plt.legend(['data', 'linear', 'cubic'], loc='best')\n",
    "plt.show()"
   ]
  },
  {
   "cell_type": "code",
   "execution_count": 24,
   "metadata": {},
   "outputs": [
    {
     "data": {
      "text/plain": [
       "array(17.84313725)"
      ]
     },
     "execution_count": 24,
     "metadata": {},
     "output_type": "execute_result"
    }
   ],
   "source": [
    "f(400)"
   ]
  },
  {
   "cell_type": "code",
   "execution_count": null,
   "metadata": {},
   "outputs": [],
   "source": []
  }
 ],
 "metadata": {
  "kernelspec": {
   "display_name": "Python 3",
   "language": "python",
   "name": "python3"
  },
  "language_info": {
   "codemirror_mode": {
    "name": "ipython",
    "version": 3
   },
   "file_extension": ".py",
   "mimetype": "text/x-python",
   "name": "python",
   "nbconvert_exporter": "python",
   "pygments_lexer": "ipython3",
   "version": "3.7.3"
  }
 },
 "nbformat": 4,
 "nbformat_minor": 2
}
