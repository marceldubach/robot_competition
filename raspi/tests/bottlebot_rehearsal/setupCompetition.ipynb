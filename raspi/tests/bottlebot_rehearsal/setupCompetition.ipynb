{
 "cells": [
  {
   "cell_type": "code",
   "execution_count": null,
   "metadata": {},
   "outputs": [],
   "source": [
    "import cv2 as cv\n",
    "from picamera import PiCamera\n",
    "import argparse\n",
    "import os\n",
    "\n",
    "parser = argparse.ArgumentParser()\n",
    "\n",
    "\n",
    "parser.add_argument(\"name\",help=\"name the photo to save as .jpg\")\n",
    "args = parser.parse_args()\n",
    "camera = PiCamera()\n",
    "camera.rotation = 180\n",
    "\n",
    "camera.capture(args.name+\".jpg\")\n",
    "webcam = cv.VideoCapture(0) #ID 0\n",
    "webcam.set(cv.CAP_PROP_FRAME_WIDTH, 1920) \n",
    "webcam.set(cv.CAP_PROP_FRAME_HEIGHT, 1080) \n",
    "time.sleep(0.5)\n",
    "if not (webcam.isOpened()):\n",
    "    print(\"Could not open video device\")\n",
    "\n",
    "try:\n",
    "    check, frame = webcam.read()\n",
    "    cv.imwrite(filename='webcam.jpg', img=frame)\n",
    "    webcam.release()\n",
    "    print(\"Image saved!\")\n",
    "\n",
    "except:\n",
    "    print(\"Problem saving image\")\n"
   ]
  }
 ],
 "metadata": {
  "kernelspec": {
   "display_name": "Python 3",
   "language": "python",
   "name": "python3"
  },
  "language_info": {
   "codemirror_mode": {
    "name": "ipython",
    "version": 3
   },
   "file_extension": ".py",
   "mimetype": "text/x-python",
   "name": "python",
   "nbconvert_exporter": "python",
   "pygments_lexer": "ipython3",
   "version": "3.7.3"
  }
 },
 "nbformat": 4,
 "nbformat_minor": 2
}
